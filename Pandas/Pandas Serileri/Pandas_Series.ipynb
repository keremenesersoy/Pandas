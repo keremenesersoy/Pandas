{
 "cells": [
  {
   "cell_type": "code",
   "execution_count": 7,
   "metadata": {},
   "outputs": [],
   "source": [
    "import numpy as np\n",
    "import pandas as pd\n",
    "\n",
    "seri = pd.Series([1,2,3,4,5])"
   ]
  },
  {
   "cell_type": "markdown",
   "metadata": {},
   "source": [
    "### PANDAS Series Fonksiyonları"
   ]
  },
  {
   "cell_type": "code",
   "execution_count": 2,
   "metadata": {},
   "outputs": [
    {
     "name": "stdout",
     "output_type": "stream",
     "text": [
      "seri.axes = [RangeIndex(start=0, stop=5, step=1)]\n",
      "seri.dtype = int64\n",
      "seri.size = 5\n",
      "seri.ndim = 1\n",
      "seri.values = [1 2 3 4 5]\n",
      "seri.values = \n",
      "0    1\n",
      "1    2\n",
      "dtype: int64\n",
      "seri.values = \n",
      "3    4\n",
      "4    5\n",
      "dtype: int64\n"
     ]
    }
   ],
   "source": [
    "print(f\"seri.axes = {seri.axes}\") # bu serinin index bilgilerini verir\n",
    "print(f\"seri.dtype = {seri.dtype}\") # serinin tipini verir\n",
    "print(f\"seri.size = {seri.size}\") # serinin uzunlugunu verir\n",
    "print(f\"seri.ndim = {seri.ndim}\") # serinin boyutunu verir\n",
    "print(f\"seri.values = {seri.values}\") # serideki değerleri verir\n",
    "print(f\"seri.values = \\n{seri.head(2)}\") # serinin baştaki verilerini verir \n",
    "print(f\"seri.values = \\n{seri.tail(2)}\") # serinin sondaki verilerini verir"
   ]
  },
  {
   "cell_type": "markdown",
   "metadata": {},
   "source": [
    "### Pandas Serisi İsimlendirme"
   ]
  },
  {
   "cell_type": "code",
   "execution_count": 3,
   "metadata": {},
   "outputs": [
    {
     "name": "stdout",
     "output_type": "stream",
     "text": [
      "10\n"
     ]
    }
   ],
   "source": [
    "seri = pd.Series([10,20,30,40,50] , index = ['a','b','c','d','e'])\n",
    "print(seri['a'])"
   ]
  },
  {
   "cell_type": "markdown",
   "metadata": {},
   "source": [
    "### Pandas Serilerinde Slice"
   ]
  },
  {
   "cell_type": "code",
   "execution_count": 4,
   "metadata": {},
   "outputs": [
    {
     "name": "stdout",
     "output_type": "stream",
     "text": [
      "İndex ile Slice islemi => \n",
      "b    20\n",
      "c    30\n",
      "dtype: int64\n",
      "İndex ismi ile Slice islemi => \n",
      "a    10\n",
      "b    20\n",
      "dtype: int64\n"
     ]
    }
   ],
   "source": [
    "print(f\"İndex ile Slice islemi => \\n{seri[1:3]}\")\n",
    "print(f\"İndex ismi ile Slice islemi => \\n{seri['a':'b']}\")"
   ]
  },
  {
   "cell_type": "markdown",
   "metadata": {},
   "source": [
    "### Sözlük İle Seri Oluşturmak"
   ]
  },
  {
   "cell_type": "code",
   "execution_count": 5,
   "metadata": {},
   "outputs": [
    {
     "data": {
      "text/plain": [
       "bir     4\n",
       "iki    98\n",
       "uc     56\n",
       "dtype: int64"
      ]
     },
     "execution_count": 5,
     "metadata": {},
     "output_type": "execute_result"
    }
   ],
   "source": [
    "sozluk = {\"bir\" : 4 , \"iki\" : 98 , \"uc\" : 56}\n",
    "seri = pd.Series(sozluk)\n",
    "seri"
   ]
  },
  {
   "cell_type": "markdown",
   "metadata": {},
   "source": [
    "### İki Seriyi Birleştirmek"
   ]
  },
  {
   "cell_type": "code",
   "execution_count": 6,
   "metadata": {},
   "outputs": [
    {
     "data": {
      "text/plain": [
       "bir     4\n",
       "iki    98\n",
       "uc     56\n",
       "bir     4\n",
       "iki    98\n",
       "uc     56\n",
       "dtype: int64"
      ]
     },
     "execution_count": 6,
     "metadata": {},
     "output_type": "execute_result"
    }
   ],
   "source": [
    "birlesik_Seri = pd.concat([seri,seri]) # burda birleştirirken verdiğimiz serileri liste şeklinde vermemiz gerek\n",
    "birlesik_Seri"
   ]
  }
 ],
 "metadata": {
  "kernelspec": {
   "display_name": "Python 3",
   "language": "python",
   "name": "python3"
  },
  "language_info": {
   "codemirror_mode": {
    "name": "ipython",
    "version": 3
   },
   "file_extension": ".py",
   "mimetype": "text/x-python",
   "name": "python",
   "nbconvert_exporter": "python",
   "pygments_lexer": "ipython3",
   "version": "3.10.1"
  },
  "orig_nbformat": 4,
  "vscode": {
   "interpreter": {
    "hash": "18166a33d950c5b65a5d938715230d2a0f2422f14abbd439c54bd0817c6a741f"
   }
  }
 },
 "nbformat": 4,
 "nbformat_minor": 2
}
